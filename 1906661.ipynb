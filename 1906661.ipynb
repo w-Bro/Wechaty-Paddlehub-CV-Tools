{
 "cells": [
  {
   "cell_type": "markdown",
   "metadata": {
    "collapsed": false
   },
   "source": [
    "## 一、项目说明\n",
    "临近比赛提交时间结束才知道有这个AI ChatBot 创意赛【https://aistudio.baidu.com/aistudio/projectdetail/1902589】，匆忙申请好token，准备实现在微信上集成一些实用的计算机视觉小工具。由于剩余时间比较短，暂时只添加了OCR模块（chinese_ocr_db_crnn_mobile），基于VOC自定义训练的20分类目标检测模型后续会更新，以及使用paddlehub的进行自定义module也会在本文一并更新，请关注后续章节~\n",
    "\n",
    "[GitHub repo](https://github.com/w-Bro/Wechaty-Paddlehub-CV-Tools)\n",
    "\n",
    "## 二、wechaty准备\n",
    "### 0. 环境说明与参考教程\n",
    "```\n",
    "padlocal服务器：VirtualBox 虚拟机 Centos7、Docker version 18.09.8, build 0dd43dd87f\n",
    "本地运行服务器：Win10、python3.7\n",
    "\n",
    "详细使用参见官方文档[https://python-wechaty.readthedocs.io/zh_CN/latest/introduction/use-padlocal-protocol/]\n",
    "简单场景可参考以下步骤\n",
    "```\n",
    "### 2. 简单步骤一（padlocal服务器）：拉取镜像\n",
    "```\n",
    "docker pull wechaty/wechaty:latest\n",
    "```\n",
    "\n",
    "### 3. 简单步骤二（padlocal服务器）：启动padlocal服务\n",
    "```sheel\n",
    "export WECHATY_LOG=\"verbose\"\n",
    "export WECHATY_PUPPET=\"wechaty-puppet-wechat\"\n",
    "# 自定义填写\n",
    "export WECHATY_PUPPET_SERVER_PORT=\"8080\"\n",
    "# 依据申请的填写\n",
    "export WECHATY_TOKEN=\"puppet_padlocal_XXXX\"\n",
    "# 随机生成即可，参考下方代码块\n",
    "export WECHATY_TOKEN=\"XXXX-c7ac2435b05d\"\n",
    "\n",
    "docker run -ti \\\n",
    "  --name wechaty_puppet_service_token_gateway \\\n",
    "  --rm \\\n",
    "  -e WECHATY_LOG \\\n",
    "  -e WECHATY_PUPPET \\\n",
    "  -e WECHATY_PUPPET_PADLOCAL_TOKEN \\\n",
    "  -e WECHATY_PUPPET_SERVER_PORT \\\n",
    "  -e WECHATY_TOKEN \\\n",
    "  -p \"$WECHATY_PUPPET_SERVER_PORT:$WECHATY_PUPPET_SERVER_PORT\" \\\n",
    "  wechaty/wechaty:latest\n",
    "```\n",
    "有看到以下输出，复制Online QR Code Image后面的链接，打开之后扫码登录，padlocal服务端就准备ok了\n",
    "```\n",
    "13:38:10 VERB StorageFile save() to /wechaty/XXXX-c7ac2435b05d.memory-card.json\n",
    "13:38:10 INFO IoClient [5] https://login.weixin.qq.com/l/Acg3Az1aZQ==\n",
    "Online QR Code Image: https://wechaty.js.org/qrcode/https%3A%2F%2Flogin.weixin.qq.com%2Fl%2FAcg3Az1aZQ%3D%3D\n",
    "```\n",
    "\n",
    "### 4. 简单步骤三（本地运行服务器）：运行demo\n",
    "```python\n",
    "import asyncio, os\n",
    "from typing import List, Optional, Union\n",
    "\n",
    "from wechaty_puppet import FileBox  # type: ignore\n",
    "\n",
    "from wechaty import Wechaty, Contact\n",
    "from wechaty.user import Message, Room\n",
    "\n",
    "# 填步骤二生成的uuid v4\n",
    "os.environ['WECHATY_PUPPET_SERVICE_TOKEN] = \"XXXX-c7ac2435b05d\"\n",
    "# 填虚拟机（内网）地址\n",
    "os.environ['WECHATY_PUPPET_SERVICE_ENDPOINT] = \"192.168.1.101:8080\"\n",
    "\n",
    "class MyBot(Wechaty):\n",
    "\n",
    "    async def on_message(self, msg: Message):\n",
    "        \"\"\"\n",
    "        listen for message event\n",
    "        \"\"\"\n",
    "        from_contact: Optional[Contact] = msg.talker()\n",
    "        text = msg.text()\n",
    "        room: Optional[Room] = msg.room()\n",
    "        if text == 'ding':\n",
    "            conversation: Union[\n",
    "                Room, Contact] = from_contact if room is None else room\n",
    "            await conversation.ready()\n",
    "            await conversation.say('dong')\n",
    "            file_box = FileBox.from_url(\n",
    "                'https://ss3.bdstatic.com/70cFv8Sh_Q1YnxGkpoWK1HF6hhy/it/'\n",
    "                'u=1116676390,2305043183&fm=26&gp=0.jpg',\n",
    "                name='ding-dong.jpg')\n",
    "            await conversation.say(file_box)\n",
    "\n",
    "asyncio.run(MyBot().start())\n",
    "```\n",
    "使用另外一个微信发送“ding”会收到回复“dong”则说明程序正常，wechaty配置完成，可以使用！\n",
    "\n",
    "## 三、paddlehub准备\n",
    "### 1. OCR(直接使用paddlehub预训练模型)\n",
    "```\n",
    "# 可参考官方示例【https://www.paddlepaddle.org.cn/hubdetail?name=chinese_ocr_db_crnn_mobile&en_category=TextRecognition】\n",
    "# 我的封装代码 ocr_util.py\n",
    "#!/usr/bin/env python\n",
    "import cv2\n",
    "import paddlehub as hub\n",
    "\n",
    "# 加载移动端预训练模型\n",
    "ocr = hub.Module(name=\"chinese_ocr_db_crnn_mobile\")\n",
    "\n",
    "\n",
    "def ocr_text(img_path):\n",
    "    \"\"\"\n",
    "    OCR识别\n",
    "    :param img_path:\n",
    "    :return:\n",
    "    \"\"\"\n",
    "    # 读取测试文件夹test.txt中的照片路径\n",
    "    np_images =[cv2.imread(img_path)]\n",
    "\n",
    "    results = ocr.recognize_text(\n",
    "                        images=np_images,         # 图片数据，ndarray.shape 为 [H, W, C]，BGR格式；\n",
    "                        use_gpu=False,            # 是否使用 GPU；若使用GPU，请先设置CUDA_VISIBLE_DEVICES环境变量\n",
    "                        output_dir='ocr_result',  # 图片的保存路径，默认设为 ocr_result；\n",
    "                        visualization=False,       # 是否将识别结果保存为图片文件；\n",
    "                        box_thresh=0.5,           # 检测文本框置信度的阈值；\n",
    "                        text_thresh=0.5,          # 识别中文文本置信度的阈值；\n",
    "                        )\n",
    "    text_results = []\n",
    "    for result in results:\n",
    "        data = result['data']\n",
    "        # save_path = result['save_path']\n",
    "        text = \"文本：置信度\\n\"\n",
    "        for infomation in data:\n",
    "            # print('text: ', infomation['text'], '\\nconfidence: ', infomation['confidence'], '\\ntext_box_position: ', infomation['text_box_position'])\n",
    "            text += f\"{infomation['text']}：{round(infomation['confidence'], 2)}\\n\"\n",
    "        text_results.append(text.strip())\n",
    "\n",
    "    return text_results\n",
    "\n",
    "if __name__ == '__main__':\n",
    "    print(ocr_text(\"image/1125858391207285698.jpg\"))\n",
    "```\n",
    "\n",
    "### 2. 目标检测（使用PaddleDetection训练VOC数据集以及自定义Paddlehub Module，待更新）\n",
    "#### 2.1 VOC数据集准备，适配PaddleDetection格式\n",
    "\n",
    "#### 2.2 使用PaddleDetection进行训练\n",
    "\n",
    "#### 2.3 自定义Paddlehub Module\n",
    "\n",
    "## 四、演示效果\n",
    "![](https://ai-studio-static-online.cdn.bcebos.com/27fdf7b367de4932ac36217560af485dda54c94d43494479b9e87f0baf6b4e41)\n",
    "![](https://ai-studio-static-online.cdn.bcebos.com/5d57b4bbd9454ef7b92ea1e99515d3389e887d8ea8b744cd93401eab063cdabc)\n"
   ]
  },
  {
   "cell_type": "code",
   "execution_count": null,
   "metadata": {
    "collapsed": false
   },
   "outputs": [],
   "source": [
    "# 克隆PaddleDetection仓库\r\n",
    "# !git clone https://gitee.com/PaddlePaddle/PaddleDetection.git\r\n",
    "\r\n",
    "# 编译安装paddledet 安装其他依赖\r\n",
    "!cd PaddleDetection && python setup.py install && pip install -r requirements.txt\r\n"
   ]
  },
  {
   "cell_type": "code",
   "execution_count": null,
   "metadata": {
    "collapsed": false
   },
   "outputs": [],
   "source": [
    "# 测试\r\n",
    "!cd PaddleDetection && python ppdet/modeling/tests/test_architectures.py"
   ]
  },
  {
   "cell_type": "code",
   "execution_count": null,
   "metadata": {
    "collapsed": false
   },
   "outputs": [],
   "source": [
    "# 在GPU上预测一张图片\r\n",
    "! export CUDA_VISIBLE_DEVICES=0 && cd PaddleDetection && python tools/infer.py -c configs/ppyolo/ppyolo_r50vd_dcn_1x_coco.yml -o use_gpu=true weights=https://paddlemodels.bj.bcebos.com/object_detection/ppyolo.pdparams --infer_img=demo/000000570688.jpg"
   ]
  },
  {
   "cell_type": "code",
   "execution_count": 4,
   "metadata": {
    "collapsed": false
   },
   "outputs": [
    {
     "name": "stdout",
     "output_type": "stream",
     "text": [
      "8672500e-a7ea-43e1-a3a1-c0121bb493d0\n"
     ]
    }
   ],
   "source": [
    "# 生成uudiv4\r\n",
    "import uuid\r\n",
    "print(uuid.uuid4())"
   ]
  }
 ],
 "metadata": {
  "kernelspec": {
   "display_name": "PaddlePaddle 2.0.0b0 (Python 3.5)",
   "language": "python",
   "name": "py35-paddle1.2.0"
  },
  "language_info": {
   "codemirror_mode": {
    "name": "ipython",
    "version": 3
   },
   "file_extension": ".py",
   "mimetype": "text/x-python",
   "name": "python",
   "nbconvert_exporter": "python",
   "pygments_lexer": "ipython3",
   "version": "3.7.4"
  }
 },
 "nbformat": 4,
 "nbformat_minor": 1
}
